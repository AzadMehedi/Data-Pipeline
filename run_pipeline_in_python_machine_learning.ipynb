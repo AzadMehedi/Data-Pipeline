{
  "nbformat": 4,
  "nbformat_minor": 0,
  "metadata": {
    "colab": {
      "provenance": [],
      "authorship_tag": "ABX9TyN+K/isU4f//JP/ZeL74gZr",
      "include_colab_link": true
    },
    "kernelspec": {
      "name": "python3",
      "display_name": "Python 3"
    },
    "language_info": {
      "name": "python"
    }
  },
  "cells": [
    {
      "cell_type": "markdown",
      "metadata": {
        "id": "view-in-github",
        "colab_type": "text"
      },
      "source": [
        "<a href=\"https://colab.research.google.com/github/AzadMehedi/Data-Pipeline/blob/main/run_pipeline_in_python_machine_learning.ipynb\" target=\"_parent\"><img src=\"https://colab.research.google.com/assets/colab-badge.svg\" alt=\"Open In Colab\"/></a>"
      ]
    },
    {
      "cell_type": "markdown",
      "source": [
        "![image.png](data:image/png;base64,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)"
      ],
      "metadata": {
        "id": "AgXBZQBm2RtK"
      }
    },
    {
      "cell_type": "markdown",
      "source": [
        "# Creating Machine Learning Pipeline"
      ],
      "metadata": {
        "id": "N1OBF_Lm2ap6"
      }
    },
    {
      "cell_type": "code",
      "source": [
        "# import packages\n",
        "\n",
        "import pandas as pd\n",
        "from sklearn.model_selection import train_test_split\n",
        "from sklearn.preprocessing import MinMaxScaler\n",
        "from sklearn.decomposition import PCA\n",
        "from sklearn.pipeline import Pipeline\n",
        "from sklearn.linear_model import LogisticRegression\n",
        "from sklearn.tree import DecisionTreeClassifier\n",
        "from sklearn.ensemble import RandomForestClassifier\n",
        "\n",
        "import warnings\n",
        "warnings.filterwarnings('ignore')"
      ],
      "metadata": {
        "id": "ynaX0KqT2SaS"
      },
      "execution_count": 2,
      "outputs": []
    },
    {
      "cell_type": "code",
      "source": [
        "# load dataset\n",
        "\n",
        "df = pd.read_csv('/content/pima-indians-diabetes.csv', header=None)\n",
        "df.head()"
      ],
      "metadata": {
        "colab": {
          "base_uri": "https://localhost:8080/",
          "height": 206
        },
        "id": "iejAQk1p2dcN",
        "outputId": "415deaa0-d43d-486c-82be-6d6951faf99f"
      },
      "execution_count": 6,
      "outputs": [
        {
          "output_type": "execute_result",
          "data": {
            "text/plain": [
              "   0    1   2   3    4     5      6   7  8\n",
              "0  6  148  72  35    0  33.6  0.627  50  1\n",
              "1  1   85  66  29    0  26.6  0.351  31  0\n",
              "2  8  183  64   0    0  23.3  0.672  32  1\n",
              "3  1   89  66  23   94  28.1  0.167  21  0\n",
              "4  0  137  40  35  168  43.1  2.288  33  1"
            ],
            "text/html": [
              "\n",
              "  <div id=\"df-c8cb49d7-0cdd-4845-a80b-c744edbcf72d\">\n",
              "    <div class=\"colab-df-container\">\n",
              "      <div>\n",
              "<style scoped>\n",
              "    .dataframe tbody tr th:only-of-type {\n",
              "        vertical-align: middle;\n",
              "    }\n",
              "\n",
              "    .dataframe tbody tr th {\n",
              "        vertical-align: top;\n",
              "    }\n",
              "\n",
              "    .dataframe thead th {\n",
              "        text-align: right;\n",
              "    }\n",
              "</style>\n",
              "<table border=\"1\" class=\"dataframe\">\n",
              "  <thead>\n",
              "    <tr style=\"text-align: right;\">\n",
              "      <th></th>\n",
              "      <th>0</th>\n",
              "      <th>1</th>\n",
              "      <th>2</th>\n",
              "      <th>3</th>\n",
              "      <th>4</th>\n",
              "      <th>5</th>\n",
              "      <th>6</th>\n",
              "      <th>7</th>\n",
              "      <th>8</th>\n",
              "    </tr>\n",
              "  </thead>\n",
              "  <tbody>\n",
              "    <tr>\n",
              "      <th>0</th>\n",
              "      <td>6</td>\n",
              "      <td>148</td>\n",
              "      <td>72</td>\n",
              "      <td>35</td>\n",
              "      <td>0</td>\n",
              "      <td>33.6</td>\n",
              "      <td>0.627</td>\n",
              "      <td>50</td>\n",
              "      <td>1</td>\n",
              "    </tr>\n",
              "    <tr>\n",
              "      <th>1</th>\n",
              "      <td>1</td>\n",
              "      <td>85</td>\n",
              "      <td>66</td>\n",
              "      <td>29</td>\n",
              "      <td>0</td>\n",
              "      <td>26.6</td>\n",
              "      <td>0.351</td>\n",
              "      <td>31</td>\n",
              "      <td>0</td>\n",
              "    </tr>\n",
              "    <tr>\n",
              "      <th>2</th>\n",
              "      <td>8</td>\n",
              "      <td>183</td>\n",
              "      <td>64</td>\n",
              "      <td>0</td>\n",
              "      <td>0</td>\n",
              "      <td>23.3</td>\n",
              "      <td>0.672</td>\n",
              "      <td>32</td>\n",
              "      <td>1</td>\n",
              "    </tr>\n",
              "    <tr>\n",
              "      <th>3</th>\n",
              "      <td>1</td>\n",
              "      <td>89</td>\n",
              "      <td>66</td>\n",
              "      <td>23</td>\n",
              "      <td>94</td>\n",
              "      <td>28.1</td>\n",
              "      <td>0.167</td>\n",
              "      <td>21</td>\n",
              "      <td>0</td>\n",
              "    </tr>\n",
              "    <tr>\n",
              "      <th>4</th>\n",
              "      <td>0</td>\n",
              "      <td>137</td>\n",
              "      <td>40</td>\n",
              "      <td>35</td>\n",
              "      <td>168</td>\n",
              "      <td>43.1</td>\n",
              "      <td>2.288</td>\n",
              "      <td>33</td>\n",
              "      <td>1</td>\n",
              "    </tr>\n",
              "  </tbody>\n",
              "</table>\n",
              "</div>\n",
              "      <button class=\"colab-df-convert\" onclick=\"convertToInteractive('df-c8cb49d7-0cdd-4845-a80b-c744edbcf72d')\"\n",
              "              title=\"Convert this dataframe to an interactive table.\"\n",
              "              style=\"display:none;\">\n",
              "        \n",
              "  <svg xmlns=\"http://www.w3.org/2000/svg\" height=\"24px\"viewBox=\"0 0 24 24\"\n",
              "       width=\"24px\">\n",
              "    <path d=\"M0 0h24v24H0V0z\" fill=\"none\"/>\n",
              "    <path d=\"M18.56 5.44l.94 2.06.94-2.06 2.06-.94-2.06-.94-.94-2.06-.94 2.06-2.06.94zm-11 1L8.5 8.5l.94-2.06 2.06-.94-2.06-.94L8.5 2.5l-.94 2.06-2.06.94zm10 10l.94 2.06.94-2.06 2.06-.94-2.06-.94-.94-2.06-.94 2.06-2.06.94z\"/><path d=\"M17.41 7.96l-1.37-1.37c-.4-.4-.92-.59-1.43-.59-.52 0-1.04.2-1.43.59L10.3 9.45l-7.72 7.72c-.78.78-.78 2.05 0 2.83L4 21.41c.39.39.9.59 1.41.59.51 0 1.02-.2 1.41-.59l7.78-7.78 2.81-2.81c.8-.78.8-2.07 0-2.86zM5.41 20L4 18.59l7.72-7.72 1.47 1.35L5.41 20z\"/>\n",
              "  </svg>\n",
              "      </button>\n",
              "      \n",
              "  <style>\n",
              "    .colab-df-container {\n",
              "      display:flex;\n",
              "      flex-wrap:wrap;\n",
              "      gap: 12px;\n",
              "    }\n",
              "\n",
              "    .colab-df-convert {\n",
              "      background-color: #E8F0FE;\n",
              "      border: none;\n",
              "      border-radius: 50%;\n",
              "      cursor: pointer;\n",
              "      display: none;\n",
              "      fill: #1967D2;\n",
              "      height: 32px;\n",
              "      padding: 0 0 0 0;\n",
              "      width: 32px;\n",
              "    }\n",
              "\n",
              "    .colab-df-convert:hover {\n",
              "      background-color: #E2EBFA;\n",
              "      box-shadow: 0px 1px 2px rgba(60, 64, 67, 0.3), 0px 1px 3px 1px rgba(60, 64, 67, 0.15);\n",
              "      fill: #174EA6;\n",
              "    }\n",
              "\n",
              "    [theme=dark] .colab-df-convert {\n",
              "      background-color: #3B4455;\n",
              "      fill: #D2E3FC;\n",
              "    }\n",
              "\n",
              "    [theme=dark] .colab-df-convert:hover {\n",
              "      background-color: #434B5C;\n",
              "      box-shadow: 0px 1px 3px 1px rgba(0, 0, 0, 0.15);\n",
              "      filter: drop-shadow(0px 1px 2px rgba(0, 0, 0, 0.3));\n",
              "      fill: #FFFFFF;\n",
              "    }\n",
              "  </style>\n",
              "\n",
              "      <script>\n",
              "        const buttonEl =\n",
              "          document.querySelector('#df-c8cb49d7-0cdd-4845-a80b-c744edbcf72d button.colab-df-convert');\n",
              "        buttonEl.style.display =\n",
              "          google.colab.kernel.accessAllowed ? 'block' : 'none';\n",
              "\n",
              "        async function convertToInteractive(key) {\n",
              "          const element = document.querySelector('#df-c8cb49d7-0cdd-4845-a80b-c744edbcf72d');\n",
              "          const dataTable =\n",
              "            await google.colab.kernel.invokeFunction('convertToInteractive',\n",
              "                                                     [key], {});\n",
              "          if (!dataTable) return;\n",
              "\n",
              "          const docLinkHtml = 'Like what you see? Visit the ' +\n",
              "            '<a target=\"_blank\" href=https://colab.research.google.com/notebooks/data_table.ipynb>data table notebook</a>'\n",
              "            + ' to learn more about interactive tables.';\n",
              "          element.innerHTML = '';\n",
              "          dataTable['output_type'] = 'display_data';\n",
              "          await google.colab.output.renderOutput(dataTable, element);\n",
              "          const docLink = document.createElement('div');\n",
              "          docLink.innerHTML = docLinkHtml;\n",
              "          element.appendChild(docLink);\n",
              "        }\n",
              "      </script>\n",
              "    </div>\n",
              "  </div>\n",
              "  "
            ]
          },
          "metadata": {},
          "execution_count": 6
        }
      ]
    },
    {
      "cell_type": "code",
      "source": [
        "# assiging Columns name\n",
        "\n",
        "df.columns = ['Pregnancies','Glucose','BloodPressure','SkinThicness','Insulin','BMI','DiabetesPedigreeFunction','Age','Class']\n",
        "df.head()"
      ],
      "metadata": {
        "colab": {
          "base_uri": "https://localhost:8080/",
          "height": 206
        },
        "id": "ekOIEc9R5_fg",
        "outputId": "9d10f555-8db7-4442-f0ad-38238f5a21e6"
      },
      "execution_count": 9,
      "outputs": [
        {
          "output_type": "execute_result",
          "data": {
            "text/plain": [
              "   Pregnancies  Glucose  BloodPressure  SkinThicness  Insulin   BMI  \\\n",
              "0            1       85             66            29        0  26.6   \n",
              "1            8      183             64             0        0  23.3   \n",
              "2            1       89             66            23       94  28.1   \n",
              "3            0      137             40            35      168  43.1   \n",
              "4            5      116             74             0        0  25.6   \n",
              "\n",
              "   DiabetesPedigreeFunction  Age  Class  \n",
              "0                     0.351   31      0  \n",
              "1                     0.672   32      1  \n",
              "2                     0.167   21      0  \n",
              "3                     2.288   33      1  \n",
              "4                     0.201   30      0  "
            ],
            "text/html": [
              "\n",
              "  <div id=\"df-381b2fa3-4cc7-4c97-b308-843ec38f6369\">\n",
              "    <div class=\"colab-df-container\">\n",
              "      <div>\n",
              "<style scoped>\n",
              "    .dataframe tbody tr th:only-of-type {\n",
              "        vertical-align: middle;\n",
              "    }\n",
              "\n",
              "    .dataframe tbody tr th {\n",
              "        vertical-align: top;\n",
              "    }\n",
              "\n",
              "    .dataframe thead th {\n",
              "        text-align: right;\n",
              "    }\n",
              "</style>\n",
              "<table border=\"1\" class=\"dataframe\">\n",
              "  <thead>\n",
              "    <tr style=\"text-align: right;\">\n",
              "      <th></th>\n",
              "      <th>Pregnancies</th>\n",
              "      <th>Glucose</th>\n",
              "      <th>BloodPressure</th>\n",
              "      <th>SkinThicness</th>\n",
              "      <th>Insulin</th>\n",
              "      <th>BMI</th>\n",
              "      <th>DiabetesPedigreeFunction</th>\n",
              "      <th>Age</th>\n",
              "      <th>Class</th>\n",
              "    </tr>\n",
              "  </thead>\n",
              "  <tbody>\n",
              "    <tr>\n",
              "      <th>0</th>\n",
              "      <td>1</td>\n",
              "      <td>85</td>\n",
              "      <td>66</td>\n",
              "      <td>29</td>\n",
              "      <td>0</td>\n",
              "      <td>26.6</td>\n",
              "      <td>0.351</td>\n",
              "      <td>31</td>\n",
              "      <td>0</td>\n",
              "    </tr>\n",
              "    <tr>\n",
              "      <th>1</th>\n",
              "      <td>8</td>\n",
              "      <td>183</td>\n",
              "      <td>64</td>\n",
              "      <td>0</td>\n",
              "      <td>0</td>\n",
              "      <td>23.3</td>\n",
              "      <td>0.672</td>\n",
              "      <td>32</td>\n",
              "      <td>1</td>\n",
              "    </tr>\n",
              "    <tr>\n",
              "      <th>2</th>\n",
              "      <td>1</td>\n",
              "      <td>89</td>\n",
              "      <td>66</td>\n",
              "      <td>23</td>\n",
              "      <td>94</td>\n",
              "      <td>28.1</td>\n",
              "      <td>0.167</td>\n",
              "      <td>21</td>\n",
              "      <td>0</td>\n",
              "    </tr>\n",
              "    <tr>\n",
              "      <th>3</th>\n",
              "      <td>0</td>\n",
              "      <td>137</td>\n",
              "      <td>40</td>\n",
              "      <td>35</td>\n",
              "      <td>168</td>\n",
              "      <td>43.1</td>\n",
              "      <td>2.288</td>\n",
              "      <td>33</td>\n",
              "      <td>1</td>\n",
              "    </tr>\n",
              "    <tr>\n",
              "      <th>4</th>\n",
              "      <td>5</td>\n",
              "      <td>116</td>\n",
              "      <td>74</td>\n",
              "      <td>0</td>\n",
              "      <td>0</td>\n",
              "      <td>25.6</td>\n",
              "      <td>0.201</td>\n",
              "      <td>30</td>\n",
              "      <td>0</td>\n",
              "    </tr>\n",
              "  </tbody>\n",
              "</table>\n",
              "</div>\n",
              "      <button class=\"colab-df-convert\" onclick=\"convertToInteractive('df-381b2fa3-4cc7-4c97-b308-843ec38f6369')\"\n",
              "              title=\"Convert this dataframe to an interactive table.\"\n",
              "              style=\"display:none;\">\n",
              "        \n",
              "  <svg xmlns=\"http://www.w3.org/2000/svg\" height=\"24px\"viewBox=\"0 0 24 24\"\n",
              "       width=\"24px\">\n",
              "    <path d=\"M0 0h24v24H0V0z\" fill=\"none\"/>\n",
              "    <path d=\"M18.56 5.44l.94 2.06.94-2.06 2.06-.94-2.06-.94-.94-2.06-.94 2.06-2.06.94zm-11 1L8.5 8.5l.94-2.06 2.06-.94-2.06-.94L8.5 2.5l-.94 2.06-2.06.94zm10 10l.94 2.06.94-2.06 2.06-.94-2.06-.94-.94-2.06-.94 2.06-2.06.94z\"/><path d=\"M17.41 7.96l-1.37-1.37c-.4-.4-.92-.59-1.43-.59-.52 0-1.04.2-1.43.59L10.3 9.45l-7.72 7.72c-.78.78-.78 2.05 0 2.83L4 21.41c.39.39.9.59 1.41.59.51 0 1.02-.2 1.41-.59l7.78-7.78 2.81-2.81c.8-.78.8-2.07 0-2.86zM5.41 20L4 18.59l7.72-7.72 1.47 1.35L5.41 20z\"/>\n",
              "  </svg>\n",
              "      </button>\n",
              "      \n",
              "  <style>\n",
              "    .colab-df-container {\n",
              "      display:flex;\n",
              "      flex-wrap:wrap;\n",
              "      gap: 12px;\n",
              "    }\n",
              "\n",
              "    .colab-df-convert {\n",
              "      background-color: #E8F0FE;\n",
              "      border: none;\n",
              "      border-radius: 50%;\n",
              "      cursor: pointer;\n",
              "      display: none;\n",
              "      fill: #1967D2;\n",
              "      height: 32px;\n",
              "      padding: 0 0 0 0;\n",
              "      width: 32px;\n",
              "    }\n",
              "\n",
              "    .colab-df-convert:hover {\n",
              "      background-color: #E2EBFA;\n",
              "      box-shadow: 0px 1px 2px rgba(60, 64, 67, 0.3), 0px 1px 3px 1px rgba(60, 64, 67, 0.15);\n",
              "      fill: #174EA6;\n",
              "    }\n",
              "\n",
              "    [theme=dark] .colab-df-convert {\n",
              "      background-color: #3B4455;\n",
              "      fill: #D2E3FC;\n",
              "    }\n",
              "\n",
              "    [theme=dark] .colab-df-convert:hover {\n",
              "      background-color: #434B5C;\n",
              "      box-shadow: 0px 1px 3px 1px rgba(0, 0, 0, 0.15);\n",
              "      filter: drop-shadow(0px 1px 2px rgba(0, 0, 0, 0.3));\n",
              "      fill: #FFFFFF;\n",
              "    }\n",
              "  </style>\n",
              "\n",
              "      <script>\n",
              "        const buttonEl =\n",
              "          document.querySelector('#df-381b2fa3-4cc7-4c97-b308-843ec38f6369 button.colab-df-convert');\n",
              "        buttonEl.style.display =\n",
              "          google.colab.kernel.accessAllowed ? 'block' : 'none';\n",
              "\n",
              "        async function convertToInteractive(key) {\n",
              "          const element = document.querySelector('#df-381b2fa3-4cc7-4c97-b308-843ec38f6369');\n",
              "          const dataTable =\n",
              "            await google.colab.kernel.invokeFunction('convertToInteractive',\n",
              "                                                     [key], {});\n",
              "          if (!dataTable) return;\n",
              "\n",
              "          const docLinkHtml = 'Like what you see? Visit the ' +\n",
              "            '<a target=\"_blank\" href=https://colab.research.google.com/notebooks/data_table.ipynb>data table notebook</a>'\n",
              "            + ' to learn more about interactive tables.';\n",
              "          element.innerHTML = '';\n",
              "          dataTable['output_type'] = 'display_data';\n",
              "          await google.colab.output.renderOutput(dataTable, element);\n",
              "          const docLink = document.createElement('div');\n",
              "          docLink.innerHTML = docLinkHtml;\n",
              "          element.appendChild(docLink);\n",
              "        }\n",
              "      </script>\n",
              "    </div>\n",
              "  </div>\n",
              "  "
            ]
          },
          "metadata": {},
          "execution_count": 9
        }
      ]
    },
    {
      "cell_type": "code",
      "source": [
        "# Dividing Data Into train test \n",
        "\n",
        "X = df.iloc[:, [0,1,2,3,4,5,6,7]]  # all the rows and columns =  ['Pregnancies',\t'Glucose',\t'BloodPressure',\t'SkinThicness',\t\n",
        "                                                                 # 'Insulin',\t'BMI',\t'DiabetesPedigreeFunction',\t'Age']\n",
        "y = df.iloc[:, [8]]                # all the rows and columns = ['Class]\n",
        "\n",
        "X_train, X_test, y_train, y_test = train_test_split(X, y, test_size=0.2, random_state=1)"
      ],
      "metadata": {
        "id": "OO1U61yY6w2S"
      },
      "execution_count": 10,
      "outputs": []
    },
    {
      "cell_type": "markdown",
      "source": [
        "# Creating Pipeline\n",
        "### Creating pipeline for `LogisticRegression`, `DecisionTree` and `RandomForest` models\n",
        "The pipeline steps will be include\n",
        "---------------------------------------\n",
        "1. Data Preprocessing using MinMaxScaler\n",
        "2. Reducing Dimentionality using PCA\n",
        "3. Training the models"
      ],
      "metadata": {
        "id": "086-ltn28CCw"
      }
    },
    {
      "cell_type": "code",
      "source": [
        "# Logistic Regression Pipeline\n",
        "\n",
        "LogisticRegressionPipeline = Pipeline([('myscaler',MinMaxScaler()), \n",
        "                                       ('mypca',PCA(n_components=3)), \n",
        "                                       ('logist_regression',LogisticRegression())])"
      ],
      "metadata": {
        "id": "hr1Vjqgn8BOS"
      },
      "execution_count": 17,
      "outputs": []
    },
    {
      "cell_type": "code",
      "source": [
        "# Decision Tree Pipeline\n",
        "\n",
        "DecisionTreePipeline = Pipeline([('myscaler',MinMaxScaler()), \n",
        "                                       ('mypca',PCA(n_components=3)), \n",
        "                                       ('logist_regression',DecisionTreeClassifier())])"
      ],
      "metadata": {
        "id": "ewZk5t_L90qu"
      },
      "execution_count": 19,
      "outputs": []
    },
    {
      "cell_type": "code",
      "source": [
        "# Random Forest Pipeline\n",
        "\n",
        "RandomForestPipeline = Pipeline([('myscaler',MinMaxScaler()), \n",
        "                                       ('mypca',PCA(n_components=3)), \n",
        "                                       ('logist_regression',RandomForestClassifier())])"
      ],
      "metadata": {
        "id": "PtO0FpQY_rSI"
      },
      "execution_count": 20,
      "outputs": []
    },
    {
      "cell_type": "markdown",
      "source": [
        "# Model training and validation"
      ],
      "metadata": {
        "id": "Xupf9xDIAL-g"
      }
    },
    {
      "cell_type": "code",
      "source": [
        "# Defining the pipelines in a list\n",
        "\n",
        "mypipeline = [LogisticRegressionPipeline, DecisionTreePipeline, RandomForestPipeline]"
      ],
      "metadata": {
        "id": "nHkQTURrAOyy"
      },
      "execution_count": 25,
      "outputs": []
    },
    {
      "cell_type": "code",
      "source": [
        "# Defining variables for choosing the best model\n",
        "\n",
        "accuracy = 0\n",
        "# classifier = 0\n",
        "pipeline = ''"
      ],
      "metadata": {
        "id": "9afAvl2AAce4"
      },
      "execution_count": 50,
      "outputs": []
    },
    {
      "cell_type": "code",
      "source": [
        "# creating dictionaries of pipelines and training models\n",
        "PipelineDict = {0:'Logistic Regreesion', 1:'Decision Tree', 2:'Random Forest'}"
      ],
      "metadata": {
        "id": "4FnqxtzWAp1C"
      },
      "execution_count": 28,
      "outputs": []
    },
    {
      "cell_type": "code",
      "source": [
        "# Fit the pipelines\n",
        "for mypipe in mypipeline:\n",
        "  mypipe.fit(X_train, y_train)"
      ],
      "metadata": {
        "id": "BMUPe6DTCDgn"
      },
      "execution_count": 29,
      "outputs": []
    },
    {
      "cell_type": "code",
      "source": [
        "# Getting test accuracy for all the pipeline\n",
        "\n",
        "for i, model in enumerate(mypipeline):\n",
        "  print('{} Test Accuracy: {}'.format(PipelineDict[i], model.score(X_test, y_test)))"
      ],
      "metadata": {
        "colab": {
          "base_uri": "https://localhost:8080/"
        },
        "id": "GRW4vNiCCMqY",
        "outputId": "e1d8a1c9-3deb-4457-df08-538d0c26b3ab"
      },
      "execution_count": 32,
      "outputs": [
        {
          "output_type": "stream",
          "name": "stdout",
          "text": [
            "Logistic Regreesion Test Accuracy: 0.7077922077922078\n",
            "Decision Tree Test Accuracy: 0.7077922077922078\n",
            "Random Forest Test Accuracy: 0.7532467532467533\n"
          ]
        }
      ]
    },
    {
      "cell_type": "code",
      "source": [
        "# Choosing the best model for the given data\n",
        "\n",
        "for i, model in enumerate(mypipeline):\n",
        "  if model.score(X_test, y_test) > accuracy:\n",
        "    accuracy = model.score(X_test, y_test)\n",
        "    pipeline = model\n",
        "    # classifier = i\n",
        "# print('Classifier with the best Accuracy: {}: {}'.format(PipelineDict[classifier], accuracy))\n",
        "print('Classifier with the best Accuracy: {}: {}'.format(PipelineDict[i], accuracy))"
      ],
      "metadata": {
        "colab": {
          "base_uri": "https://localhost:8080/"
        },
        "id": "QUim4KIaCM0m",
        "outputId": "ad539a91-05b0-485c-8cb0-907683fde1ec"
      },
      "execution_count": 52,
      "outputs": [
        {
          "output_type": "stream",
          "name": "stdout",
          "text": [
            "Classifier with the best Accuracy: Random Forest: 0.7532467532467533\n"
          ]
        }
      ]
    },
    {
      "cell_type": "code",
      "source": [],
      "metadata": {
        "id": "mpddFNdiHBz8"
      },
      "execution_count": null,
      "outputs": []
    }
  ]
}